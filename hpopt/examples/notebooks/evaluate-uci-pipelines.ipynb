{
 "cells": [
  {
   "cell_type": "markdown",
   "metadata": {},
   "source": [
    "## Cars"
   ]
  },
  {
   "cell_type": "code",
   "execution_count": 4,
   "metadata": {},
   "outputs": [],
   "source": [
    "import sys\n",
    "import random\n",
    "\n",
    "sys.path.append(\"/home/hlt/\")"
   ]
  },
  {
   "cell_type": "code",
   "execution_count": 7,
   "metadata": {},
   "outputs": [],
   "source": [
    "from hpopt.datasets.uci.car import load_corpus\n",
    "from hpopt.sklearn import SklearnClassifier, SklearnGrammar\n",
    "from hpopt.ge import Individual"
   ]
  },
  {
   "cell_type": "code",
   "execution_count": 8,
   "metadata": {},
   "outputs": [],
   "source": [
    "best_values = [0.6327251787595896, 0.38158077905932075, 0.16042800042986083, 0.9126367081173147, 0.010865987523215881, 0.8652750924425382, 0.16670264729758077, 0.9913870370370839, 0.9106861356621543, 0.09183054692901427, 0.7676405910722842, 0.6678130643399938, 0.8646407889289495, 0.49639105987078336, 0.3120943201020344, 0.7907833186875355, 0.7364090804357445, 0.5363828190677057, 0.9854026411063748, 0.7694747947056466, 0.49714081725023684, 0.925809283679158, 0.5058197515286897, 0.843108756658452, 0.049952814309132676, 0.1299088056464366, 0.2129408192858261, 0.23210913761119356, 0.1404302873130423, 0.04153337777012178, 0.55961949446454, 0.5899708035401114, 0.7265297681367185, 0.6148554864055772, 0.4531567592205039, 0.44991188791001013]"
   ]
  },
  {
   "cell_type": "code",
   "execution_count": 13,
   "metadata": {},
   "outputs": [],
   "source": [
    "grammar = SklearnGrammar(X, y)"
   ]
  },
  {
   "cell_type": "code",
   "execution_count": 14,
   "metadata": {},
   "outputs": [],
   "source": [
    "ind = Individual(best_values, grammar)"
   ]
  },
  {
   "cell_type": "code",
   "execution_count": 15,
   "metadata": {},
   "outputs": [],
   "source": [
    "X, y = load_corpus(representation='onehot')"
   ]
  },
  {
   "cell_type": "code",
   "execution_count": 17,
   "metadata": {
    "scrolled": true
   },
   "outputs": [
    {
     "name": "stdout",
     "output_type": "stream",
     "text": [
      "0.9884393063583815\n",
      "0.9971098265895953\n",
      "0.9884393063583815\n",
      "0.9942196531791907\n",
      "0.9971098265895953\n",
      "0.9913294797687862\n",
      "0.9913294797687862\n",
      "0.9913294797687862\n",
      "0.9884393063583815\n",
      "0.9942196531791907\n",
      "1.0\n",
      "1.0\n",
      "0.9884393063583815\n",
      "0.9971098265895953\n",
      "0.9826589595375722\n",
      "0.9826589595375722\n",
      "0.9884393063583815\n",
      "0.9855491329479769\n",
      "0.9942196531791907\n",
      "0.9884393063583815\n",
      "0.9884393063583815\n",
      "0.9971098265895953\n",
      "1.0\n",
      "0.9884393063583815\n",
      "0.9913294797687862\n",
      "0.9884393063583815\n",
      "0.9913294797687862\n",
      "0.9971098265895953\n"
     ]
    },
    {
     "name": "stderr",
     "output_type": "stream",
     "text": [
      "/usr/local/lib/python3.5/dist-packages/sklearn/neural_network/multilayer_perceptron.py:562: ConvergenceWarning: Stochastic Optimizer: Maximum iterations (200) reached and the optimization hasn't converged yet.\n",
      "  % self.max_iter, ConvergenceWarning)\n"
     ]
    },
    {
     "name": "stdout",
     "output_type": "stream",
     "text": [
      "0.9913294797687862\n",
      "0.9942196531791907\n"
     ]
    }
   ],
   "source": [
    "scores = []\n",
    "\n",
    "for i in range(30):\n",
    "    ind.reset()\n",
    "    s = grammar.evaluate(ind)\n",
    "    print(s)\n",
    "    scores.append(s)"
   ]
  },
  {
   "cell_type": "code",
   "execution_count": 18,
   "metadata": {},
   "outputs": [],
   "source": [
    "import numpy as np"
   ]
  },
  {
   "cell_type": "code",
   "execution_count": 20,
   "metadata": {},
   "outputs": [
    {
     "data": {
      "text/plain": [
       "0.991907514450867"
      ]
     },
     "execution_count": 20,
     "metadata": {},
     "output_type": "execute_result"
    }
   ],
   "source": [
    "np.mean(scores)"
   ]
  },
  {
   "cell_type": "code",
   "execution_count": null,
   "metadata": {},
   "outputs": [],
   "source": []
  }
 ],
 "metadata": {
  "kernelspec": {
   "display_name": "Python 3",
   "language": "python",
   "name": "python3"
  },
  "language_info": {
   "codemirror_mode": {
    "name": "ipython",
    "version": 3
   },
   "file_extension": ".py",
   "mimetype": "text/x-python",
   "name": "python",
   "nbconvert_exporter": "python",
   "pygments_lexer": "ipython3",
   "version": "3.5.2"
  }
 },
 "nbformat": 4,
 "nbformat_minor": 2
}
