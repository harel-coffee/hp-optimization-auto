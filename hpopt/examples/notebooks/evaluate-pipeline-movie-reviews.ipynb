{
 "cells": [
  {
   "cell_type": "code",
   "execution_count": 3,
   "metadata": {},
   "outputs": [],
   "source": [
    "best_pipeline = {\n",
    "    \"Pipeline\": [{\n",
    "            \"TextPrep\": [{\n",
    "                \"Clean\": [{\n",
    "                    \"Stopwords\": [\"no\"]\n",
    "                }]\n",
    "            }, {\n",
    "                \"Semantic\": [{\n",
    "                    \"Pos\": [\"no\"]\n",
    "                }, {\n",
    "                    \"Tag\": [\"no\"]\n",
    "                }, {\n",
    "                    \"Dep\": [\"no\"]\n",
    "                }]\n",
    "            }, {\n",
    "                \"Vect\": [{\n",
    "                    \"TFIDF\": 2\n",
    "                }]\n",
    "            }]\n",
    "        }, {\n",
    "            \"DataPrep\": [{\n",
    "                \"Encoding\": [\"none\"]\n",
    "            }, {\n",
    "                \"Rescaling\": [\"minmax\"]\n",
    "            }, {\n",
    "                \"Imputation\": [\"median\"]\n",
    "            }, {\n",
    "                \"Balancing\": [\"weight\"]\n",
    "            }]\n",
    "        }, {\n",
    "            \"FeatPrep\": [\"none\"]\n",
    "        }, {\n",
    "            \"Class\": [{\n",
    "                \"Linear\": [{\n",
    "                    \"Ridge\": 6.0405000825446855\n",
    "                }]\n",
    "            }]\n",
    "        }]}"
   ]
  },
  {
   "cell_type": "code",
   "execution_count": 4,
   "metadata": {},
   "outputs": [],
   "source": [
    "import sklearn\n"
   ]
  },
  {
   "cell_type": "code",
   "execution_count": null,
   "metadata": {},
   "outputs": [],
   "source": [
    "from sklearn."
   ]
  }
 ],
 "metadata": {
  "kernelspec": {
   "display_name": "Python 3",
   "language": "python",
   "name": "python3"
  },
  "language_info": {
   "codemirror_mode": {
    "name": "ipython",
    "version": 3
   },
   "file_extension": ".py",
   "mimetype": "text/x-python",
   "name": "python",
   "nbconvert_exporter": "python",
   "pygments_lexer": "ipython3",
   "version": "3.5.2"
  }
 },
 "nbformat": 4,
 "nbformat_minor": 2
}
